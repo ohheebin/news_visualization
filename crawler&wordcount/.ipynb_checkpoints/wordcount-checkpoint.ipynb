{
 "cells": [
  {
   "cell_type": "code",
   "execution_count": 2,
   "metadata": {
    "collapsed": true
   },
   "outputs": [],
   "source": [
    "\"\"\" 형태소 분석기\n",
    "    명사 추출 및 빈도수 체크\n",
    "    python [모듈 이름] [텍스트 파일명.txt] [결과파일명.txt]\n",
    "\"\"\"\n",
    " \n",
    "import sys\n",
    "from konlpy.tag import Twitter\n",
    "from collections import Counter"
   ]
  },
  {
   "cell_type": "code",
   "execution_count": 3,
   "metadata": {
    "collapsed": true
   },
   "outputs": [],
   "source": [
    "def get_tags(text, ntags=50):\n",
    "    spliter = Twitter()\n",
    "    nouns = spliter.nouns(text)\n",
    "    count = Counter(nouns)\n",
    "    return_list = []\n",
    "    for n, c in count.most_common(ntags):\n",
    "        temp = {'tag': n, 'count': c}\n",
    "        return_list.append(temp)\n",
    "    return return_list"
   ]
  },
  {
   "cell_type": "code",
   "execution_count": null,
   "metadata": {
    "collapsed": true
   },
   "outputs": [],
   "source": [
    "t = '두 값을 산출하는 방법에는 여러가지가 있는데, 단어를 나타내는 id값을 t라고 하고, 문서(도큐먼트)에 특정히 할당된 id값을 d라고 해보자. 말이 어려운데 간단하게 말하면 그 문서 일련번호고, 단어 일련번호다.'\n"
   ]
  },
  {
   "cell_type": "code",
   "execution_count": 15,
   "metadata": {
    "collapsed": true
   },
   "outputs": [],
   "source": [
    "def main(argv):\n",
    "    if len(argv) != 4:\n",
    "        print('python [모듈 이름] [텍스트 파일명.txt] [단어 개수] [결과파일명.txt]')\n",
    "        return\n",
    "    text_file_name = argv[1]\n",
    "    noun_count = int(argv[2])\n",
    "    output_file_name = argv[3]\n",
    "    open_text_file = open(text_file_name, 'r')\n",
    "    text = open_text_file.read()\n",
    "    tags = get_tags(text, noun_count)\n",
    "    open_text_file.close()\n",
    "    open_output_file = open(output_file_name, 'w')\n",
    "    for tag in tags:\n",
    "        noun = tag['tag']\n",
    "        count = tag['count']\n",
    "        open_output_file.write('{} {}\\n'.format(noun, count))\n",
    "    open_output_file.close()"
   ]
  },
  {
   "cell_type": "code",
   "execution_count": 16,
   "metadata": {},
   "outputs": [
    {
     "name": "stdout",
     "output_type": "stream",
     "text": [
      "python [모듈 이름] [텍스트 파일명.txt] [단어 개수] [결과파일명.txt]\n"
     ]
    }
   ],
   "source": [
    "if __name__ == '__main__':\n",
    "    main(sys.argv)"
   ]
  },
  {
   "cell_type": "code",
   "execution_count": null,
   "metadata": {
    "collapsed": true
   },
   "outputs": [],
   "source": []
  }
 ],
 "metadata": {
  "kernelspec": {
   "display_name": "Python 3",
   "language": "python",
   "name": "python3"
  },
  "language_info": {
   "codemirror_mode": {
    "name": "ipython",
    "version": 3
   },
   "file_extension": ".py",
   "mimetype": "text/x-python",
   "name": "python",
   "nbconvert_exporter": "python",
   "pygments_lexer": "ipython3",
   "version": "3.6.1"
  }
 },
 "nbformat": 4,
 "nbformat_minor": 2
}
