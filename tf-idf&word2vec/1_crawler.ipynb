{
 "cells": [
  {
   "cell_type": "code",
   "execution_count": 1,
   "metadata": {
    "collapsed": true
   },
   "outputs": [],
   "source": [
    "#맨 처음 네이버 뉴스의 웹을 통해서 각각의 뉴스의 링크들을 url.txt에 저장한다.\n",
    "#BeautifulSoup 를 이용해서 웹크롤링을 실행한다.\n",
    "import requests\n",
    "from bs4 import BeautifulSoup\n",
    "\n",
    "URL_FILE_NAME = 'url.txt'"
   ]
  },
  {
   "cell_type": "code",
   "execution_count": 2,
   "metadata": {
    "collapsed": true
   },
   "outputs": [],
   "source": [
    "#spider 함수는 직접 뉴스의 링크를 가져와서 text라는 str 변수에 저장해서 그 값을 return 해준다.\n",
    "def spider(max_pages):\n",
    "    page = 1\n",
    "    temp = ''\n",
    "    text = ''\n",
    "    while page <= max_pages:\n",
    "        url = 'http://news.naver.com/main/list.nhn?sid1=100&mid=sec&mode=LSD&date=20170704&page=' + str(page)\n",
    "        source_code = requests.get(url)\n",
    "        plain_text = source_code.text\n",
    "        soup = BeautifulSoup(plain_text, 'lxml')\n",
    "        body = soup.find(\"ul\", {\"class\": \"type06_headline\"})\n",
    "        for keywords in body.findAll('a'):\n",
    "            key = keywords.get('href')\n",
    "            if temp != key:\n",
    "                text = text + keywords.get('href') + \"\\n\"\n",
    "            temp = key\n",
    "        page += 1\n",
    "    return text"
   ]
  },
  {
   "cell_type": "code",
   "execution_count": 3,
   "metadata": {
    "collapsed": true
   },
   "outputs": [],
   "source": [
    "#spider 함수의 max_pages를 설정해서 그 페이지 수만큼의 뉴스기사의 링크를 받아와서 url.txt에 저장 시킨다.\n",
    "def main():\n",
    "    open_output_file = open(URL_FILE_NAME, 'w')\n",
    "    result_text = spider(500)\n",
    "    open_output_file.write(result_text)\n",
    "    open_output_file.close()"
   ]
  },
  {
   "cell_type": "code",
   "execution_count": 4,
   "metadata": {
    "collapsed": true
   },
   "outputs": [],
   "source": [
    "if __name__ == '__main__':\n",
    "    main()"
   ]
  },
  {
   "cell_type": "code",
   "execution_count": null,
   "metadata": {
    "collapsed": true
   },
   "outputs": [],
   "source": []
  }
 ],
 "metadata": {
  "kernelspec": {
   "display_name": "Python 3",
   "language": "python",
   "name": "python3"
  },
  "language_info": {
   "codemirror_mode": {
    "name": "ipython",
    "version": 3
   },
   "file_extension": ".py",
   "mimetype": "text/x-python",
   "name": "python",
   "nbconvert_exporter": "python",
   "pygments_lexer": "ipython3",
   "version": "3.6.1"
  }
 },
 "nbformat": 4,
 "nbformat_minor": 2
}
