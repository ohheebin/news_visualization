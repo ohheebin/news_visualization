{
 "cells": [
  {
   "cell_type": "code",
   "execution_count": 1,
   "metadata": {
    "collapsed": true
   },
   "outputs": [],
   "source": [
    "#word2vec\n",
    "import gensim\n",
    "import codecs\n",
    "import os"
   ]
  },
  {
   "cell_type": "code",
   "execution_count": 2,
   "metadata": {
    "collapsed": true
   },
   "outputs": [],
   "source": [
    "class SentenceReader:\n",
    "    def __init__(self, filepath):\n",
    "        self.filepath = filepath\n",
    "    \n",
    "    def __iter__(self):\n",
    "        for line in codecs.open(self.filepath, encoding='utf-8'):\n",
    "            yield line.split(' ')"
   ]
  },
  {
   "cell_type": "code",
   "execution_count": 13,
   "metadata": {},
   "outputs": [
    {
     "data": {
      "text/plain": [
       "50000"
      ]
     },
     "execution_count": 13,
     "metadata": {},
     "output_type": "execute_result"
    }
   ],
   "source": [
    "file = 'nouns.txt'\n",
    "sentences_vocab = SentenceReader('/Users/heebin/Desktop/project/'+file)\n",
    "sentences_train = SentenceReader('/Users/heebin/Desktop/project/'+file)\n",
    "            \n",
    "model = gensim.models.Word2Vec()\n",
    "model.build_vocab(sentences_vocab)\n",
    "model.train(sentences_train,total_examples=model.corpus_count,epochs=model.iter)"
   ]
  },
  {
   "cell_type": "code",
   "execution_count": 14,
   "metadata": {
    "collapsed": true
   },
   "outputs": [],
   "source": [
    "model.save('model')\n",
    "model = gensim.models.Word2Vec.load('model')"
   ]
  },
  {
   "cell_type": "code",
   "execution_count": 20,
   "metadata": {},
   "outputs": [
    {
     "name": "stdout",
     "output_type": "stream",
     "text": [
      "[('수사', 0.935254693031311), ('대표', 0.9325578808784485), ('부분', 0.9306542873382568), ('사실', 0.9285765290260315), ('입장', 0.9281557202339172), ('유미', 0.9271982312202454), ('후보자', 0.9269269108772278), ('후보', 0.9258288145065308), ('최고', 0.925604522228241), ('의혹', 0.9245456457138062)]\n"
     ]
    }
   ],
   "source": [
    "print(model.most_similar('문재인'))"
   ]
  },
  {
   "cell_type": "code",
   "execution_count": 16,
   "metadata": {},
   "outputs": [
    {
     "name": "stdout",
     "output_type": "stream",
     "text": [
      "[('부분', 0.9647466540336609), ('후보자', 0.9645941853523254), ('의원', 0.9645922183990479), ('사실', 0.9624948501586914), ('당시', 0.9617972373962402), ('의혹', 0.9606846570968628), ('국민의당', 0.96016526222229), ('이씨', 0.9590440392494202), ('후보', 0.9585433006286621), ('조작', 0.9578856229782104)]\n"
     ]
    }
   ],
   "source": [
    "print(model.most_similar('대통령'))"
   ]
  },
  {
   "cell_type": "code",
   "execution_count": 17,
   "metadata": {},
   "outputs": [
    {
     "name": "stdout",
     "output_type": "stream",
     "text": [
      "[('조작', 0.9791826009750366), ('의혹', 0.9776293039321899), ('사실', 0.9771135449409485), ('후보자', 0.9768640398979187), ('국민의당', 0.975940465927124), ('의원', 0.9746886491775513), ('후보', 0.9744404554367065), ('부분', 0.9743974208831787), ('이씨', 0.972757875919342), ('자유', 0.9719232320785522)]\n"
     ]
    }
   ],
   "source": [
    "print(model.most_similar('검찰'))"
   ]
  },
  {
   "cell_type": "code",
   "execution_count": 18,
   "metadata": {},
   "outputs": [
    {
     "name": "stdout",
     "output_type": "stream",
     "text": [
      "[('제보', 0.9840511679649353), ('의원', 0.9812541604042053), ('사실', 0.9812496304512024), ('국민의당', 0.9808187484741211), ('의혹', 0.979512631893158), ('부분', 0.9792309403419495), ('검찰', 0.9791826009750366), ('이씨', 0.9778127670288086), ('후보자', 0.9778061509132385), ('위원', 0.9773148894309998)]\n"
     ]
    }
   ],
   "source": [
    "print(model.most_similar('조작'))"
   ]
  },
  {
   "cell_type": "code",
   "execution_count": 9,
   "metadata": {},
   "outputs": [
    {
     "name": "stdout",
     "output_type": "stream",
     "text": [
      "[('인사', 0.44893983006477356), ('송영', 0.44692832231521606), ('사태', 0.4468803107738495), ('규정', 0.43280112743377686), ('언급', 0.43145695328712463), ('대화', 0.4282933175563812), ('추경', 0.4253520369529724), ('위원회', 0.4235534369945526), ('이씨', 0.42044690251350403), ('근무', 0.42001229524612427)]\n"
     ]
    }
   ],
   "source": [
    "print(model.most_similar('인생'))"
   ]
  },
  {
   "cell_type": "code",
   "execution_count": 12,
   "metadata": {},
   "outputs": [
    {
     "name": "stdout",
     "output_type": "stream",
     "text": [
      "[('최고', 0.9764842987060547), ('이씨', 0.9719337821006775), ('부분', 0.9708654880523682), ('사실', 0.9683026671409607), ('대표', 0.9671299457550049), ('국민의당', 0.9651355743408203), ('후보', 0.9639729261398315), ('조작', 0.963454008102417), ('사건', 0.9631141424179077), ('당시', 0.962928831577301)]\n"
     ]
    }
   ],
   "source": [
    "print(model.most_similar('유미'))"
   ]
  },
  {
   "cell_type": "code",
   "execution_count": null,
   "metadata": {
    "collapsed": true
   },
   "outputs": [],
   "source": []
  }
 ],
 "metadata": {
  "kernelspec": {
   "display_name": "Python 3",
   "language": "python",
   "name": "python3"
  },
  "language_info": {
   "codemirror_mode": {
    "name": "ipython",
    "version": 3
   },
   "file_extension": ".py",
   "mimetype": "text/x-python",
   "name": "python",
   "nbconvert_exporter": "python",
   "pygments_lexer": "ipython3",
   "version": "3.6.1"
  }
 },
 "nbformat": 4,
 "nbformat_minor": 2
}
