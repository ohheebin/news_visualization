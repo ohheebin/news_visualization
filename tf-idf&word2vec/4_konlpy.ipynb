{
 "cells": [
  {
   "cell_type": "code",
   "execution_count": 2,
   "metadata": {},
   "outputs": [],
   "source": [
    "import sys\n",
    "from konlpy.tag import Twitter\n",
    "import os\n",
    "import re\n"
   ]
  },
  {
   "cell_type": "code",
   "execution_count": 34,
   "metadata": {
    "collapsed": true
   },
   "outputs": [],
   "source": [
    "#tfidf를 통해 얻어온 제거 대상을 clean해주는 함수.\n",
    "def clean_text(text):\n",
    "    list1 = '|'.join(tfidf)\n",
    "    cleaned_text = re.sub(list1, '', text)\n",
    "    return cleaned_text"
   ]
  },
  {
   "cell_type": "code",
   "execution_count": 35,
   "metadata": {
    "collapsed": true
   },
   "outputs": [],
   "source": [
    "#main function 각 문서들의 최종 clean된 명사들을 word2vec하기위해 하나의 txt파일에 저장한다.\n",
    "def main():\n",
    "    spliter = Twitter()\n",
    "    #입력 파일명 = file\n",
    "    for file in os.listdir(\"cleand_article_dict\"):\n",
    "        #존재 여부 확인\n",
    "        if file.endswith(\".txt\"):\n",
    "            #출력 파일명\n",
    "            output_file_name = 'nouns.txt'\n",
    "            #output_file_name = 'konlpy/konlpy'+str(num)+'.txt'\n",
    "            \n",
    "            open_text_file = open('cleand_article_dict/'+file, 'r')\n",
    "            text = open_text_file.read()\n",
    "            open_text_file.close()\n",
    "            \n",
    "            #open_output_file = open(output_file_name, 'w')\n",
    "            open_output_file = open(output_file_name, 'a+')\n",
    "            \n",
    "            result_text = clean_text(text)\n",
    "            nouns = spliter.nouns(result_text)\n",
    "            \n",
    "            for n in nouns:\n",
    "                #if len(n) > 1:\n",
    "                open_output_file.write(' ' + n)\n",
    "            open_output_file.close()"
   ]
  },
  {
   "cell_type": "code",
   "execution_count": 36,
   "metadata": {
    "collapsed": true
   },
   "outputs": [],
   "source": [
    "if __name__ == '__main__':\n",
    "    main()"
   ]
  }
 ],
 "metadata": {
  "kernelspec": {
   "display_name": "Python 3",
   "language": "python",
   "name": "python3"
  },
  "language_info": {
   "codemirror_mode": {
    "name": "ipython",
    "version": 3
   },
   "file_extension": ".py",
   "mimetype": "text/x-python",
   "name": "python",
   "nbconvert_exporter": "python",
   "pygments_lexer": "ipython3",
   "version": "3.6.1"
  }
 },
 "nbformat": 4,
 "nbformat_minor": 2
}
