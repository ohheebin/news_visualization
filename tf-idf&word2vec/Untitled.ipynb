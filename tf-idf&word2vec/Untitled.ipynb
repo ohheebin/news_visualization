{
 "cells": [
  {
   "cell_type": "code",
   "execution_count": 1,
   "metadata": {
    "collapsed": true
   },
   "outputs": [],
   "source": [
    "#url.txt 파일에 저장되어있는 뉴스의 링크를 통해 그 뉴스의 기사와 제목을 가져오는 역할을 하며 내용을 가져오면서 필요없는 문자나 용어들을 제거해서 저장한다.\n",
    "#뉴스 기사는 cleand_article_dict 폴더에 제목은 cleand_title_dict 폴더에 저장한다.\n",
    "#그리고 기사의 내용은 cleand_article_(number).txt 형식으로 저장하며\n",
    "#기사의 제목은 cleand_title_(number).txt 형식으로 저장한다.\n",
    "import re\n",
    "from bs4 import BeautifulSoup\n",
    "import urllib.request\n",
    "#입,출력 파일명\n",
    "INPUT_FILE_NAME = 'url.txt'"
   ]
  },
  {
   "cell_type": "code",
   "execution_count": 2,
   "metadata": {
    "collapsed": true
   },
   "outputs": [],
   "source": [
    "#크롤링함수 url의 본문 내용 저장\n",
    "def get_text(URL):\n",
    "    source_code_from_URL = urllib.request.urlopen(URL)\n",
    "    soup = BeautifulSoup(source_code_from_URL, 'lxml', from_encoding='utf-8')\n",
    "    text = ''\n",
    "    for item in soup.find_all('div', id='articleBodyContents'):\n",
    "        text = text + str(item.find_all(text=True))\n",
    "    return text"
   ]
  },
  {
   "cell_type": "code",
   "execution_count": 3,
   "metadata": {
    "collapsed": true
   },
   "outputs": [],
   "source": [
    "#클리닝함수 본문 내용 클리닝\n",
    "def clean_text(text):   \n",
    "    cleaned_text = re.sub('[a-zA-Z]', '', text)\n",
    "    cleaned_text = re.sub('[\\{\\}\\[\\]\\/?.,;▶“’ⓒ:|\\)*~`!^\\-_+<>@\\#$%&\\\\\\=\\(\\'\\\"]',\n",
    "                          '', cleaned_text)\n",
    "    return cleaned_text"
   ]
  },
  {
   "cell_type": "code",
   "execution_count": 5,
   "metadata": {
    "collapsed": true
   },
   "outputs": [],
   "source": [
    "# 메인 함수\n",
    "# url.txt 파일에 저장되어있는 링크를 한줄 한줄 읽어서 get_text(line)을 통해 기사의 내용을 가져온후 clean_text 함수를 통해 clean_text로 \n",
    "# 변경시켜 준후 그 내용을 저장한다. \n",
    "def main():\n",
    "    num = 0\n",
    "    f = open(INPUT_FILE_NAME)\n",
    "    try:\n",
    "        for line in f:\n",
    "            print(line)\n",
    "            OUTPUT_FILE_NAME = 'result.txt'\n",
    "            open_output_file = open(OUTPUT_FILE_NAME, 'a+')\n",
    "            result_text = clean_text(get_text(line))\n",
    "            open_output_file.write(result_text)\n",
    "            open_output_file.close()      \n",
    "    finally:\n",
    "        f.close()"
   ]
  },
  {
   "cell_type": "code",
   "execution_count": 6,
   "metadata": {
    "collapsed": true
   },
   "outputs": [],
   "source": [
    "if __name__ == '__main__':\n",
    "    main()"
   ]
  },
  {
   "cell_type": "code",
   "execution_count": null,
   "metadata": {
    "collapsed": true
   },
   "outputs": [],
   "source": []
  }
 ],
 "metadata": {
  "kernelspec": {
   "display_name": "Python 3",
   "language": "python",
   "name": "python3"
  },
  "language_info": {
   "codemirror_mode": {
    "name": "ipython",
    "version": 3
   },
   "file_extension": ".py",
   "mimetype": "text/x-python",
   "name": "python",
   "nbconvert_exporter": "python",
   "pygments_lexer": "ipython3",
   "version": "3.6.1"
  }
 },
 "nbformat": 4,
 "nbformat_minor": 2
}
