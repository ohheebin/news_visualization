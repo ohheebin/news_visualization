{
 "cells": [
  {
   "cell_type": "code",
   "execution_count": null,
   "metadata": {
    "collapsed": true
   },
   "outputs": [],
   "source": [
    "#-*- coding: utf-8 -*-\n",
    "from pyspark.mllib.feature import Word2Vec\n",
    "import pyspark\n",
    "sc = pyspark.SparkContext()\n",
    "from pyspark.sql.functions import format_number as fmt\n",
    "import pymysql"
   ]
  },
  {
   "cell_type": "code",
   "execution_count": null,
   "metadata": {
    "collapsed": true
   },
   "outputs": [],
   "source": [
    "conn = pymysql.connect(host = 'localhost', user = 'root', password = '140508    ', db = 'news', charset = 'utf8')\n",
    "curs = conn.cursor()"
   ]
  },
  {
   "cell_type": "code",
   "execution_count": null,
   "metadata": {
    "collapsed": true
   },
   "outputs": [],
   "source": [
    "def db_manager(noun, synonyms_1, synonyms_2, synonyms_3, synonyms_4, synonyms_5):\n",
    "    sql = \"insert into word2vec (noun, synonyms_1, synonyms_2, synonyms_3, synonyms_4, synonyms_5) values(%s,%s,%s,%s,%s,%s)\"\n",
    "    curs.execute(sql, (noun.encode('utf-8'), synonyms_1.encode('utf-8'), syn    onyms_2.encode('utf-8'), synonyms_3.encode('utf-8'), synonyms_4.encode('utf-8'),synonyms_5.encode('utf-8')))\n",
    "    conn.commit()"
   ]
  },
  {
   "cell_type": "code",
   "execution_count": null,
   "metadata": {
    "collapsed": true
   },
   "outputs": [],
   "source": [
    "def main():\n",
    "    inp = sc.textFile(\"hdfs://hadoop2/input/result.txt\").map(lambda row: row.split(\" \"))\n",
    "\n",
    "    word2vec = Word2Vec()\n",
    "    model = word2vec.fit(inp)\n",
    "\n",
    "    ket = model.getVectors().keys()\n",
    "\n",
    "    for noun in ket:\n",
    "        num = 0\n",
    "        synonym = [\"\" for _ in range(5)]\n",
    "        synonyms = model.findSynonyms(noun, 5)\n",
    "\n",
    "        for word, cosince_distance in synonyms:\n",
    "            synonym[num] = word\n",
    "            num = num + 1\n",
    "        try:\n",
    "            print(noun.encode('utf-8'))\n",
    "            db_manager(noun, synonym[0], synonym[1], synonym[2], synonym[3],synonym[4])\n",
    "        \n",
    "        except Exception as err:\n",
    "            print(err)\n",
    "            pass"
   ]
  },
  {
   "cell_type": "code",
   "execution_count": null,
   "metadata": {
    "collapsed": true
   },
   "outputs": [],
   "source": [
    "if __name__ == '__main__':\n",
    "    main()"
   ]
  }
 ],
 "metadata": {
  "kernelspec": {
   "display_name": "Python 3",
   "language": "python",
   "name": "python3"
  },
  "language_info": {
   "codemirror_mode": {
    "name": "ipython",
    "version": 3
   },
   "file_extension": ".py",
   "mimetype": "text/x-python",
   "name": "python",
   "nbconvert_exporter": "python",
   "pygments_lexer": "ipython3",
   "version": "3.6.1"
  }
 },
 "nbformat": 4,
 "nbformat_minor": 2
}
