{
 "cells": [
  {
   "cell_type": "code",
   "execution_count": 30,
   "metadata": {},
   "outputs": [],
   "source": [
    "import requests\n",
    "from bs4 import BeautifulSoup\n",
    "\n",
    "URL_FILE_NAME = 'url.txt'"
   ]
  },
  {
   "cell_type": "code",
   "execution_count": 42,
   "metadata": {
    "collapsed": true
   },
   "outputs": [],
   "source": [
    "def spider(max_pages):\n",
    "    page = 1\n",
    "    while page <= max_pages:\n",
    "        url = 'http://news.naver.com/main/list.nhn?sid1=100&mid=sec&mode=LSD&date=20170515&page=' + str(page)\n",
    "        source_code = requests.get(url)\n",
    "        plain_text = source_code.text\n",
    "        soup = BeautifulSoup(plain_text, 'lxml')\n",
    "        body = soup.find(\"ul\", {\"class\": \"type06_headline\"})\n",
    "        temp = ''\n",
    "        text = ''\n",
    "        for keywords in body.findAll('a'):\n",
    "            key = keywords.get('href')\n",
    "            if temp != key:\n",
    "                text = text + keywords.get('href') + \"\\n\"\n",
    "            temp = key\n",
    "        page += 1\n",
    "    return text"
   ]
  },
  {
   "cell_type": "code",
   "execution_count": 32,
   "metadata": {
    "collapsed": true
   },
   "outputs": [],
   "source": [
    "def main():\n",
    "    open_output_file = open(URL_FILE_NAME, 'w')\n",
    "    result_text = spider(1)\n",
    "    open_output_file.write(result_text)\n",
    "    open_output_file.close()"
   ]
  },
  {
   "cell_type": "code",
   "execution_count": 43,
   "metadata": {},
   "outputs": [],
   "source": [
    "if __name__ == '__main__':\n",
    "    main()"
   ]
  }
 ],
 "metadata": {
  "kernelspec": {
   "display_name": "Python 3",
   "language": "python",
   "name": "python3"
  },
  "language_info": {
   "codemirror_mode": {
    "name": "ipython",
    "version": 3
   },
   "file_extension": ".py",
   "mimetype": "text/x-python",
   "name": "python",
   "nbconvert_exporter": "python",
   "pygments_lexer": "ipython3",
   "version": "3.6.1"
  }
 },
 "nbformat": 4,
 "nbformat_minor": 2
}
