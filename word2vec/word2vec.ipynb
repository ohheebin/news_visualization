{
 "cells": [
  {
   "cell_type": "code",
   "execution_count": 62,
   "metadata": {
    "collapsed": true
   },
   "outputs": [],
   "source": [
    "import gensim\n",
    "import codecs\n",
    "import os"
   ]
  },
  {
   "cell_type": "code",
   "execution_count": 63,
   "metadata": {
    "collapsed": true
   },
   "outputs": [],
   "source": [
    "class SentenceReader:\n",
    "    def __init__(self, filepath):\n",
    "        self.filepath = filepath\n",
    "    \n",
    "    def __iter__(self):\n",
    "        for line in codecs.open(self.filepath, encoding='utf-8'):\n",
    "            yield line.split(' ')"
   ]
  },
  {
   "cell_type": "code",
   "execution_count": 64,
   "metadata": {},
   "outputs": [
    {
     "data": {
      "text/plain": [
       "50000"
      ]
     },
     "execution_count": 64,
     "metadata": {},
     "output_type": "execute_result"
    }
   ],
   "source": [
    "file = 'runing.txt'\n",
    "sentences_vocab = SentenceReader('/Users/heebin/Desktop/word2vec/wordcount/'+file)\n",
    "sentences_train = SentenceReader('/Users/heebin/Desktop/word2vec/wordcount/'+file)\n",
    "            \n",
    "model = gensim.models.Word2Vec()\n",
    "model.build_vocab(sentences_vocab)\n",
    "model.train(sentences_train,total_examples=model.corpus_count,epochs=model.iter)"
   ]
  },
  {
   "cell_type": "code",
   "execution_count": 65,
   "metadata": {
    "collapsed": true
   },
   "outputs": [],
   "source": [
    "model.save('model')\n",
    "model = gensim.models.Word2Vec.load('model')"
   ]
  },
  {
   "cell_type": "code",
   "execution_count": 66,
   "metadata": {},
   "outputs": [
    {
     "name": "stdout",
     "output_type": "stream",
     "text": [
      "[('부', 0.5412278771400452), ('한국', 0.5167273283004761), ('형', 0.5031032562255859), ('서울', 0.500342845916748), ('수', 0.4992554783821106), ('뉴스', 0.49690401554107666), ('처음', 0.49249887466430664), ('원내', 0.4906807243824005), ('당', 0.48976534605026245), ('발사', 0.4860571026802063)]\n"
     ]
    }
   ],
   "source": [
    "print(model.most_similar('삼성'))"
   ]
  },
  {
   "cell_type": "code",
   "execution_count": 67,
   "metadata": {},
   "outputs": [
    {
     "name": "stdout",
     "output_type": "stream",
     "text": [
      "[('북한', 0.9228945970535278), ('것', 0.9169928431510925), ('전', 0.9061288833618164), ('기자', 0.9054949283599854), ('발사', 0.9013022184371948), ('대통령', 0.8928275108337402), ('미사일', 0.8920413851737976), ('문제', 0.8878414034843445), ('국정', 0.8873463869094849), ('여성', 0.8764946460723877)]\n"
     ]
    }
   ],
   "source": [
    "print(model.most_similar('문재인'))"
   ]
  }
 ],
 "metadata": {
  "kernelspec": {
   "display_name": "Python 3",
   "language": "python",
   "name": "python3"
  },
  "language_info": {
   "codemirror_mode": {
    "name": "ipython",
    "version": 3
   },
   "file_extension": ".py",
   "mimetype": "text/x-python",
   "name": "python",
   "nbconvert_exporter": "python",
   "pygments_lexer": "ipython3",
   "version": "3.6.1"
  }
 },
 "nbformat": 4,
 "nbformat_minor": 2
}
