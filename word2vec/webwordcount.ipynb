{
 "cells": [
  {
   "cell_type": "code",
   "execution_count": 1,
   "metadata": {
    "collapsed": true
   },
   "outputs": [],
   "source": [
    "\"\"\" 형태소 분석기\n",
    "    명사 추출 및 빈도수 체크\n",
    "\"\"\"\n",
    " \n",
    "import sys\n",
    "from konlpy.tag import Twitter\n",
    "from collections import Counter\n",
    "from konlpy.tag import Kkma\n",
    "import os"
   ]
  },
  {
   "cell_type": "code",
   "execution_count": 2,
   "metadata": {
    "collapsed": true
   },
   "outputs": [],
   "source": [
    "def get_tags(text, ntags=50):\n",
    "    spliter = Komoran()\n",
    "    nouns = spliter.nouns(text)\n",
    "    count = Counter(nouns)\n",
    "    return_list = []\n",
    "    for n, c in count.most_common(ntags):\n",
    "        temp = {'tag': n, 'count': c}\n",
    "        return_list.append(temp)\n",
    "    return return_list"
   ]
  },
  {
   "cell_type": "code",
   "execution_count": 18,
   "metadata": {
    "collapsed": true
   },
   "outputs": [],
   "source": [
    "#main function\n",
    "def main():\n",
    "    num = 0\n",
    "    #spliter = Twitter()\n",
    "    spliter = Kkma()\n",
    "    #입력 파일명 = file\n",
    "    for file in os.listdir(\"output_cleand\"):\n",
    "        #존재 여부 확인\n",
    "        if file.endswith(\".txt\"):\n",
    "            #출력 파일명\n",
    "            output_file_name = 'wordcount/runing.txt'\n",
    "            open_text_file = open('output_cleand/'+file, 'r')\n",
    "            text = open_text_file.read()\n",
    "            open_text_file.close()\n",
    "            open_output_file = open(output_file_name, 'a+')\n",
    "            nouns = spliter.nouns(text)\n",
    "            for n in nouns:\n",
    "                open_output_file.write(' ' + n)\n",
    "            open_output_file.close()"
   ]
  },
  {
   "cell_type": "code",
   "execution_count": null,
   "metadata": {},
   "outputs": [],
   "source": [
    "if __name__ == '__main__':\n",
    "    main()"
   ]
  }
 ],
 "metadata": {
  "kernelspec": {
   "display_name": "Python 3",
   "language": "python",
   "name": "python3"
  },
  "language_info": {
   "codemirror_mode": {
    "name": "ipython",
    "version": 3
   },
   "file_extension": ".py",
   "mimetype": "text/x-python",
   "name": "python",
   "nbconvert_exporter": "python",
   "pygments_lexer": "ipython3",
   "version": "3.6.1"
  }
 },
 "nbformat": 4,
 "nbformat_minor": 2
}
