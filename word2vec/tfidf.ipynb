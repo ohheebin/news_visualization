{
 "cells": [
  {
   "cell_type": "code",
   "execution_count": 86,
   "metadata": {
    "collapsed": true
   },
   "outputs": [],
   "source": [
    "\"\"\" 형태소 분석기\n",
    "    명사 추출 및 빈도수 체크\n",
    "    python [모듈 이름] [텍스트 파일명.txt] [결과파일명.txt]\n",
    "\"\"\"\n",
    " \n",
    "import sys\n",
    "from konlpy.tag import Twitter\n",
    "from collections import Counter\n",
    "import os\n",
    "import math"
   ]
  },
  {
   "cell_type": "code",
   "execution_count": 97,
   "metadata": {
    "collapsed": true
   },
   "outputs": [],
   "source": [
    "#tfidf를 구하기 위해서 tf와 idf를 구하기 위한 시작 1글자 이상의 단어만\n",
    "def get_tags(text):\n",
    "    spliter = Twitter()\n",
    "    nouns = spliter.nouns(text)\n",
    "    count = Counter(nouns)\n",
    "    return_list = []\n",
    "    for n, c in count.most_common():\n",
    "        if len(n) > 1:\n",
    "            temp = {'tag': n, 'count': c, 'dict_count' : 1}\n",
    "            return_list.append(temp)\n",
    "    return return_list"
   ]
  },
  {
   "cell_type": "code",
   "execution_count": 98,
   "metadata": {
    "collapsed": true
   },
   "outputs": [],
   "source": [
    "#tfidf가 0에 가까울 수록 좋지 제거 대상\n",
    "def tfidf_func(result_dict, dict_num):\n",
    "    result = []\n",
    "    for tag in result_dict:\n",
    "        tf = math.log10(result_dict[tag][0] + 1)\n",
    "        idf = math.log10(dict_num / result_dict[tag][1])\n",
    "        tfidf = tf * idf\n",
    "        #print(tag,result_dict[tag][0],result_dict[tag][1],tfidf)\n",
    "        if tfidf < 0.6:\n",
    "            result.append(tag)\n",
    "    print(result)\n",
    "    return result"
   ]
  },
  {
   "cell_type": "code",
   "execution_count": 99,
   "metadata": {
    "collapsed": true
   },
   "outputs": [],
   "source": [
    "#tfidf 하기\n",
    "def main():\n",
    "    num = 0\n",
    "    result_dict = {}\n",
    "    \n",
    "    for file in os.listdir(\"output_cleand\"):\n",
    "        #존재 여부 확인\n",
    "        if file.endswith(\".txt\"):\n",
    "            open_text_file = open('output_cleand/'+file, 'r')\n",
    "            text = open_text_file.read()\n",
    "            tags = get_tags(text)\n",
    "            open_text_file.close()\n",
    "            for tag in tags:\n",
    "                noun = tag['tag']\n",
    "                count = tag['count']\n",
    "                dict_count = tag['dict_count']\n",
    "                #open_output_file.write('{} {} {}\\n'.format(noun, count,dict_count))\n",
    "                if noun in result_dict:\n",
    "                    result_dict[noun][0] += count\n",
    "                    result_dict[noun][1] += dict_count\n",
    "                else:\n",
    "                    result_dict[noun] = [count, dict_count]\n",
    "            num = num + 1\n",
    "    return tfidf_func(result_dict, num)\n",
    "    "
   ]
  },
  {
   "cell_type": "code",
   "execution_count": 100,
   "metadata": {},
   "outputs": [
    {
     "name": "stdout",
     "output_type": "stream",
     "text": [
      "['오후', '본문', '내용', '플레이어', '기자', '뉴스', '오류', '우회', '함수', '추가', '무단', '전재', '배포', '금지', '서울']\n"
     ]
    }
   ],
   "source": [
    "if __name__ == '__main__':\n",
    "    main()"
   ]
  },
  {
   "cell_type": "code",
   "execution_count": null,
   "metadata": {
    "collapsed": true
   },
   "outputs": [],
   "source": []
  }
 ],
 "metadata": {
  "kernelspec": {
   "display_name": "Python 3",
   "language": "python",
   "name": "python3"
  },
  "language_info": {
   "codemirror_mode": {
    "name": "ipython",
    "version": 3
   },
   "file_extension": ".py",
   "mimetype": "text/x-python",
   "name": "python",
   "nbconvert_exporter": "python",
   "pygments_lexer": "ipython3",
   "version": "3.6.1"
  }
 },
 "nbformat": 4,
 "nbformat_minor": 2
}
