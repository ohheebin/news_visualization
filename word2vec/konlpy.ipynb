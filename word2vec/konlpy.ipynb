{
 "cells": [
  {
   "cell_type": "code",
   "execution_count": 33,
   "metadata": {
    "collapsed": true
   },
   "outputs": [],
   "source": [
    "import sys\n",
    "from konlpy.tag import Twitter\n",
    "import os\n",
    "import re"
   ]
  },
  {
   "cell_type": "code",
   "execution_count": 34,
   "metadata": {
    "collapsed": true
   },
   "outputs": [],
   "source": [
    "#클리닝함수 본문 내용 클리닝\n",
    "def clean_text(text):\n",
    "    list1 = '|'.join(tfidf)\n",
    "    cleaned_text = re.sub(list1, '', text)\n",
    "    return cleaned_text"
   ]
  },
  {
   "cell_type": "code",
   "execution_count": 35,
   "metadata": {},
   "outputs": [],
   "source": [
    "#main function\n",
    "def main():\n",
    "    num = 0\n",
    "    #spliter = Twitter()\n",
    "    spliter = Twitter()\n",
    "    #입력 파일명 = file\n",
    "    for file in os.listdir(\"output_cleand\"):\n",
    "        #존재 여부 확인\n",
    "        if file.endswith(\".txt\"):\n",
    "            #출력 파일명\n",
    "            output_file_name = 'nouns.txt'\n",
    "            #output_file_name = 'konlpy/konlpy'+str(num)+'.txt'\n",
    "            open_text_file = open('output_cleand/'+file, 'r')\n",
    "            text = open_text_file.read()\n",
    "            open_text_file.close()\n",
    "            #open_output_file = open(output_file_name, 'w')\n",
    "            open_output_file = open(output_file_name, 'a+')\n",
    "            result_text = clean_text(text)\n",
    "            nouns = spliter.nouns(result_text)\n",
    "            for n in nouns:\n",
    "                if len(n) > 1:\n",
    "                    open_output_file.write(' ' + n)\n",
    "            open_output_file.close()\n",
    "            num = num + 1"
   ]
  },
  {
   "cell_type": "code",
   "execution_count": 36,
   "metadata": {},
   "outputs": [],
   "source": [
    "if __name__ == '__main__':\n",
    "    main()"
   ]
  },
  {
   "cell_type": "code",
   "execution_count": null,
   "metadata": {
    "collapsed": true
   },
   "outputs": [],
   "source": []
  }
 ],
 "metadata": {
  "kernelspec": {
   "display_name": "Python 3",
   "language": "python",
   "name": "python3"
  },
  "language_info": {
   "codemirror_mode": {
    "name": "ipython",
    "version": 3
   },
   "file_extension": ".py",
   "mimetype": "text/x-python",
   "name": "python",
   "nbconvert_exporter": "python",
   "pygments_lexer": "ipython3",
   "version": "3.6.1"
  }
 },
 "nbformat": 4,
 "nbformat_minor": 2
}
